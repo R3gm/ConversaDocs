{
  "nbformat": 4,
  "nbformat_minor": 0,
  "metadata": {
    "colab": {
      "provenance": [],
      "gpuType": "T4",
      "authorship_tag": "ABX9TyMoq/QuUmy+xrGmEAesfDhp",
      "include_colab_link": true
    },
    "kernelspec": {
      "name": "python3",
      "display_name": "Python 3"
    },
    "language_info": {
      "name": "python"
    },
    "accelerator": "GPU"
  },
  "cells": [
    {
      "cell_type": "markdown",
      "metadata": {
        "id": "view-in-github",
        "colab_type": "text"
      },
      "source": [
        "<a href=\"https://colab.research.google.com/github/R3gm/ConversaDocs/blob/main/ConversaDocs_Colab.ipynb\" target=\"_parent\"><img src=\"https://colab.research.google.com/assets/colab-badge.svg\" alt=\"Open In Colab\"/></a>"
      ]
    },
    {
      "cell_type": "markdown",
      "source": [
        "# ConversaDocs\n",
        "\n",
        "`Chat with your documents using Llama 2, Falcon or OpenAI`\n",
        "\n",
        "- You can upload multiple documents at once to a single database.\n",
        "- Every time a new database is created, the previous one is deleted.\n",
        "- For maximum privacy, you can click \"Load LLAMA GGML Model\" to use a Llama 2 model. By default, the model llama-2_7B-Chat is loaded.\n",
        "\n",
        "Program that enables seamless interaction with your documents through an advanced vector database and the power of Large Language Model (LLM) technology.\n",
        "\n",
        "| Description | Link |\n",
        "| ----------- | ---- |\n",
        "| 📙 Colab Notebook | [![Open In Colab](https://colab.research.google.com/assets/colab-badge.svg)](https://colab.research.google.com/github/R3gm/ConversaDocs/blob/main/ConversaDocs_Colab.ipynb) |\n",
        "| 🎉 Repository | [![GitHub Repository](https://img.shields.io/badge/GitHub-Repository-black?style=flat-square&logo=github)](https://github.com/R3gm/ConversaDocs/) |\n",
        "| 🚀 Online Demo | [![Hugging Face Spaces](https://img.shields.io/badge/%F0%9F%A4%97%20Hugging%20Face-Spaces-blue)](https://huggingface.co/spaces/r3gm/ConversaDocs) |\n",
        "\n"
      ],
      "metadata": {
        "id": "EnzlcRZycXnr"
      }
    },
    {
      "cell_type": "code",
      "execution_count": null,
      "metadata": {
        "id": "S5awiNy-A50W"
      },
      "outputs": [],
      "source": [
        "!git clone https://github.com/R3gm/ConversaDocs.git\n",
        "%cd ConversaDocs\n",
        "!pip install -r requirements.txt\n",
        "\n",
        "import torch\n",
        "import os\n",
        "print(\"Wait until the cell finishes executing\")\n",
        "if torch.cuda.is_available():\n",
        "    print(\"CUDA is available on this system.\")\n",
        "    os.system('CMAKE_ARGS=\"-DLLAMA_CUBLAS=on\" FORCE_CMAKE=1 pip install llama-cpp-python --force-reinstall --upgrade --no-cache-dir --verbose')\n",
        "else:\n",
        "    print(\"CUDA is not available on this system.\")\n",
        "    os.system('pip install llama-cpp-python')"
      ]
    },
    {
      "cell_type": "markdown",
      "source": [
        "`RESTART THE RUNTIME` before executing the next cell."
      ],
      "metadata": {
        "id": "jLfxiOyMEcGF"
      }
    },
    {
      "cell_type": "code",
      "source": [
        "%cd /content/ConversaDocs\n",
        "!python app.py"
      ],
      "metadata": {
        "id": "2F2VGAJtEbb3"
      },
      "execution_count": null,
      "outputs": []
    },
    {
      "cell_type": "markdown",
      "source": [
        "Open the `public URL` when it appears"
      ],
      "metadata": {
        "id": "3aEEcmchZIlf"
      }
    }
  ]
}