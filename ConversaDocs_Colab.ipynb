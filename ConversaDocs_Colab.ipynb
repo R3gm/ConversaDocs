{
  "nbformat": 4,
  "nbformat_minor": 0,
  "metadata": {
    "colab": {
      "provenance": [],
      "gpuType": "T4",
      "authorship_tag": "ABX9TyNd7mE5YOemZld6uXaSua+S",
      "include_colab_link": true
    },
    "kernelspec": {
      "name": "python3",
      "display_name": "Python 3"
    },
    "language_info": {
      "name": "python"
    },
    "accelerator": "GPU"
  },
  "cells": [
    {
      "cell_type": "markdown",
      "metadata": {
        "id": "view-in-github",
        "colab_type": "text"
      },
      "source": [
        "<a href=\"https://colab.research.google.com/github/R3gm/ConversaDocs/blob/main/ConversaDocs_Colab.ipynb\" target=\"_parent\"><img src=\"https://colab.research.google.com/assets/colab-badge.svg\" alt=\"Open In Colab\"/></a>"
      ]
    },
    {
      "cell_type": "code",
      "execution_count": null,
      "metadata": {
        "id": "S5awiNy-A50W"
      },
      "outputs": [],
      "source": [
        "!git clone https://github.com/R3gm/ConversaDocs.git\n",
        "%cd ConversaDocs\n",
        "!pip install -r requirements.txt"
      ]
    },
    {
      "cell_type": "markdown",
      "source": [
        "`RESTART THE RUNTIME` before executing the next cell."
      ],
      "metadata": {
        "id": "jLfxiOyMEcGF"
      }
    },
    {
      "cell_type": "markdown",
      "source": [
        "Get your KEY TOKEN here: https://hf.co/settings/tokens"
      ],
      "metadata": {
        "id": "ai6smKgaGivR"
      }
    },
    {
      "cell_type": "code",
      "source": [
        "import os\n",
        "\n",
        "YOUR_HUGGINGFACE_TOKEN_VALUE = \"\" #@param {type:'string'}\n",
        "%env My_hf_token={YOUR_HUGGINGFACE_TOKEN_VALUE}\n",
        "\n",
        "%cd /content/ConversaDocs\n",
        "!python app.py"
      ],
      "metadata": {
        "id": "2F2VGAJtEbb3"
      },
      "execution_count": null,
      "outputs": []
    }
  ]
}