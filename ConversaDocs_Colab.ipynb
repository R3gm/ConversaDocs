{
  "nbformat": 4,
  "nbformat_minor": 0,
  "metadata": {
    "colab": {
      "provenance": [],
      "gpuType": "T4",
      "authorship_tag": "ABX9TyNP4pgkhXwYrTOobmBqbAkN",
      "include_colab_link": true
    },
    "kernelspec": {
      "name": "python3",
      "display_name": "Python 3"
    },
    "language_info": {
      "name": "python"
    },
    "accelerator": "GPU"
  },
  "cells": [
    {
      "cell_type": "markdown",
      "metadata": {
        "id": "view-in-github",
        "colab_type": "text"
      },
      "source": [
        "<a href=\"https://colab.research.google.com/github/R3gm/ConversaDocs/blob/main/ConversaDocs_Colab.ipynb\" target=\"_parent\"><img src=\"https://colab.research.google.com/assets/colab-badge.svg\" alt=\"Open In Colab\"/></a>"
      ]
    },
    {
      "cell_type": "markdown",
      "source": [
        "# ConversaDocs\n",
        "\n",
        "`Chat with your documents using Llama 2, Falcon, or OpenAI`\n",
        "\n",
        "- You can upload multiple documents at once to a single database.\n",
        "- Every time a new database is created, the previous one is deleted.\n",
        "- For maximum privacy, you can click \"Load LLAMA GGML Model\" to use a Llama 2 model.\n",
        "\n",
        "Program that enables seamless interaction with your documents through an advanced vector database and the power of Large Language Model (LLM) technology.\n",
        "\n",
        "| Description | Link |\n",
        "| ----------- | ---- |\n",
        "| 📙 Colab Notebook | [![Open In Colab](https://colab.research.google.com/assets/colab-badge.svg)](https://colab.research.google.com/github/R3gm/ConversaDocs/blob/main/ConversaDocs_Colab.ipynb) |\n",
        "| 🎉 Repository | [![GitHub Repository](https://img.shields.io/badge/GitHub-Repository-black?style=flat-square&logo=github)](https://github.com/R3gm/ConversaDocs/) |\n",
        "| 🚀 Online Demo | [![Hugging Face Spaces](https://img.shields.io/badge/%F0%9F%A4%97%20Hugging%20Face-Spaces-blue)](https://huggingface.co/spaces/r3gm/ConversaDocs) |\n",
        "\n"
      ],
      "metadata": {
        "id": "EnzlcRZycXnr"
      }
    },
    {
      "cell_type": "code",
      "execution_count": null,
      "metadata": {
        "id": "S5awiNy-A50W"
      },
      "outputs": [],
      "source": [
        "!git clone https://github.com/R3gm/ConversaDocs.git\n",
        "%cd ConversaDocs\n",
        "!pip install -r requirements.txt"
      ]
    },
    {
      "cell_type": "markdown",
      "source": [
        "`RESTART THE RUNTIME` before executing the next cell."
      ],
      "metadata": {
        "id": "jLfxiOyMEcGF"
      }
    },
    {
      "cell_type": "markdown",
      "source": [
        "Get your KEY TOKEN here: https://hf.co/settings/tokens"
      ],
      "metadata": {
        "id": "ai6smKgaGivR"
      }
    },
    {
      "cell_type": "code",
      "source": [
        "import os\n",
        "\n",
        "YOUR_HF_TOKEN = \"\" #@param {type:'string'}\n",
        "%env My_hf_token={YOUR_HF_TOKEN}\n",
        "\n",
        "%cd /content/ConversaDocs\n",
        "!python app.py"
      ],
      "metadata": {
        "id": "2F2VGAJtEbb3",
        "cellView": "form"
      },
      "execution_count": null,
      "outputs": []
    }
  ]
}